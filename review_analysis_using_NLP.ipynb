{
  "nbformat": 4,
  "nbformat_minor": 0,
  "metadata": {
    "colab": {
      "name": "review analysis using NLP",
      "version": "0.3.2",
      "provenance": [],
      "collapsed_sections": []
    },
    "kernelspec": {
      "name": "python3",
      "display_name": "Python 3"
    }
  },
  "cells": [
    {
      "cell_type": "code",
      "metadata": {
        "id": "Yf9ajsfMoyIW",
        "colab_type": "code",
        "outputId": "1b322a26-8729-44d2-9000-d024d702bfb5",
        "colab": {
          "base_uri": "https://localhost:8080/",
          "height": 1304
        }
      },
      "source": [
        "import pandas as pd\n",
        "import numpy as np\n",
        "data = pd.read_csv('Restaurant_Reviews.tsv',sep=\"\\t\")\n",
        "print(data)\n",
        "data.shape\n",
        "data.head()"
      ],
      "execution_count": 18,
      "outputs": [
        {
          "output_type": "stream",
          "text": [
            "                                                Review  Liked\n",
            "0                             Wow... Loved this place.      1\n",
            "1                                   Crust is not good.      0\n",
            "2            Not tasty and the texture was just nasty.      0\n",
            "3    Stopped by during the late May bank holiday of...      1\n",
            "4    The selection on the menu was great and so wer...      1\n",
            "5       Now I am getting angry and I want my damn pho.      0\n",
            "6                Honeslty it didn't taste THAT fresh.)      0\n",
            "7    The potatoes were like rubber and you could te...      0\n",
            "8                            The fries were great too.      1\n",
            "9                                       A great touch.      1\n",
            "10                            Service was very prompt.      1\n",
            "11                                  Would not go back.      0\n",
            "12   The cashier had no care what so ever on what I...      0\n",
            "13   I tried the Cape Cod ravoli, chicken, with cra...      1\n",
            "14   I was disgusted because I was pretty sure that...      0\n",
            "15   I was shocked because no signs indicate cash o...      0\n",
            "16                                 Highly recommended.      1\n",
            "17              Waitress was a little slow in service.      0\n",
            "18   This place is not worth your time, let alone V...      0\n",
            "19                                did not like at all.      0\n",
            "20                                 The Burrittos Blah!      0\n",
            "21                                  The food, amazing.      1\n",
            "22                               Service is also cute.      1\n",
            "23   I could care less... The interior is just beau...      1\n",
            "24                                  So they performed.      1\n",
            "25   That's right....the red velvet cake.....ohhh t...      1\n",
            "26          - They never brought a salad we asked for.      0\n",
            "27   This hole in the wall has great Mexican street...      1\n",
            "28   Took an hour to get our food only 4 tables in ...      0\n",
            "29                   The worst was the salmon sashimi.      0\n",
            "..                                                 ...    ...\n",
            "970  I immediately said I wanted to talk to the man...      0\n",
            "971                    The ambiance isn't much better.      0\n",
            "972  Unfortunately, it only set us up for disapppoi...      0\n",
            "973                              The food wasn't good.      0\n",
            "974  Your servers suck, wait, correction, our serve...      0\n",
            "975      What happened next was pretty....off putting.      0\n",
            "976  too bad cause I know it's family owned, I real...      0\n",
            "977               Overpriced for what you are getting.      0\n",
            "978               I vomited in the bathroom mid lunch.      0\n",
            "979  I kept looking at the time and it had soon bec...      0\n",
            "980  I have been to very few places to eat that und...      0\n",
            "981  We started with the tuna sashimi which was bro...      0\n",
            "982                            Food was below average.      0\n",
            "983  It sure does beat the nachos at the movies but...      0\n",
            "984       All in all, Ha Long Bay was a bit of a flop.      0\n",
            "985  The problem I have is that they charge $11.99 ...      0\n",
            "986  Shrimp- When I unwrapped it (I live only 1/2 a...      0\n",
            "987     It lacked flavor, seemed undercooked, and dry.      0\n",
            "988  It really is impressive that the place hasn't ...      0\n",
            "989  I would avoid this place if you are staying in...      0\n",
            "990  The refried beans that came with my meal were ...      0\n",
            "991         Spend your money and time some place else.      0\n",
            "992  A lady at the table next to us found a live gr...      0\n",
            "993            the presentation of the food was awful.      0\n",
            "994           I can't tell you how disappointed I was.      0\n",
            "995  I think food should have flavor and texture an...      0\n",
            "996                           Appetite instantly gone.      0\n",
            "997  Overall I was not impressed and would not go b...      0\n",
            "998  The whole experience was underwhelming, and I ...      0\n",
            "999  Then, as if I hadn't wasted enough of my life ...      0\n",
            "\n",
            "[1000 rows x 2 columns]\n"
          ],
          "name": "stdout"
        },
        {
          "output_type": "execute_result",
          "data": {
            "text/html": [
              "<div>\n",
              "<style scoped>\n",
              "    .dataframe tbody tr th:only-of-type {\n",
              "        vertical-align: middle;\n",
              "    }\n",
              "\n",
              "    .dataframe tbody tr th {\n",
              "        vertical-align: top;\n",
              "    }\n",
              "\n",
              "    .dataframe thead th {\n",
              "        text-align: right;\n",
              "    }\n",
              "</style>\n",
              "<table border=\"1\" class=\"dataframe\">\n",
              "  <thead>\n",
              "    <tr style=\"text-align: right;\">\n",
              "      <th></th>\n",
              "      <th>Review</th>\n",
              "      <th>Liked</th>\n",
              "    </tr>\n",
              "  </thead>\n",
              "  <tbody>\n",
              "    <tr>\n",
              "      <th>0</th>\n",
              "      <td>Wow... Loved this place.</td>\n",
              "      <td>1</td>\n",
              "    </tr>\n",
              "    <tr>\n",
              "      <th>1</th>\n",
              "      <td>Crust is not good.</td>\n",
              "      <td>0</td>\n",
              "    </tr>\n",
              "    <tr>\n",
              "      <th>2</th>\n",
              "      <td>Not tasty and the texture was just nasty.</td>\n",
              "      <td>0</td>\n",
              "    </tr>\n",
              "    <tr>\n",
              "      <th>3</th>\n",
              "      <td>Stopped by during the late May bank holiday of...</td>\n",
              "      <td>1</td>\n",
              "    </tr>\n",
              "    <tr>\n",
              "      <th>4</th>\n",
              "      <td>The selection on the menu was great and so wer...</td>\n",
              "      <td>1</td>\n",
              "    </tr>\n",
              "  </tbody>\n",
              "</table>\n",
              "</div>"
            ],
            "text/plain": [
              "                                              Review  Liked\n",
              "0                           Wow... Loved this place.      1\n",
              "1                                 Crust is not good.      0\n",
              "2          Not tasty and the texture was just nasty.      0\n",
              "3  Stopped by during the late May bank holiday of...      1\n",
              "4  The selection on the menu was great and so wer...      1"
            ]
          },
          "metadata": {
            "tags": []
          },
          "execution_count": 18
        }
      ]
    },
    {
      "cell_type": "markdown",
      "metadata": {
        "id": "Gy7YPOUBj0NQ",
        "colab_type": "text"
      },
      "source": [
        "\n",
        "\n",
        "\n",
        "\n",
        "*   **Import  dataset**\n",
        "*   **project dataset as 'data'**\n",
        "\n",
        "* ***number of rows and column in data via 'data.shape()'' ***\n",
        "*  **data.head() , prints first 5 lines of dataset**\n",
        "\n",
        "\n",
        "\n",
        "\n",
        "\n"
      ]
    },
    {
      "cell_type": "markdown",
      "metadata": {
        "id": "49DNsbfmlCCF",
        "colab_type": "text"
      },
      "source": [
        "\n",
        "\n",
        "\n",
        "*  **Split to dependent and independent variables**\n",
        "*  ***Check if empty data or white spaces  in review if yes drop that row ***\n",
        "\n",
        "\n"
      ]
    },
    {
      "cell_type": "code",
      "metadata": {
        "id": "SnWWk2-GrX64",
        "colab_type": "code",
        "outputId": "7745f2fe-00b6-42f6-a0fe-29cef2e07612",
        "colab": {
          "base_uri": "https://localhost:8080/",
          "height": 1123
        }
      },
      "source": [
        "X = data[\"Review\"]\n",
        "print(X)\n",
        "y = data[\"Liked\"]\n",
        "\n",
        "X.shape\n",
        "y.shape\n",
        "\n",
        "#check if there are whitespaces \n",
        "blanks = []\n",
        "for ind,label,review in data.itertuples():\n",
        "  if type(review) == str:\n",
        "    if review.isspace():\n",
        "      blanks.append(ind)\n",
        "print(len(blanks))\n",
        "\n",
        "#remove nan values\n",
        "print(data.dropna(inplace=True))"
      ],
      "execution_count": 21,
      "outputs": [
        {
          "output_type": "stream",
          "text": [
            "0                               Wow... Loved this place.\n",
            "1                                     Crust is not good.\n",
            "2              Not tasty and the texture was just nasty.\n",
            "3      Stopped by during the late May bank holiday of...\n",
            "4      The selection on the menu was great and so wer...\n",
            "5         Now I am getting angry and I want my damn pho.\n",
            "6                  Honeslty it didn't taste THAT fresh.)\n",
            "7      The potatoes were like rubber and you could te...\n",
            "8                              The fries were great too.\n",
            "9                                         A great touch.\n",
            "10                              Service was very prompt.\n",
            "11                                    Would not go back.\n",
            "12     The cashier had no care what so ever on what I...\n",
            "13     I tried the Cape Cod ravoli, chicken, with cra...\n",
            "14     I was disgusted because I was pretty sure that...\n",
            "15     I was shocked because no signs indicate cash o...\n",
            "16                                   Highly recommended.\n",
            "17                Waitress was a little slow in service.\n",
            "18     This place is not worth your time, let alone V...\n",
            "19                                  did not like at all.\n",
            "20                                   The Burrittos Blah!\n",
            "21                                    The food, amazing.\n",
            "22                                 Service is also cute.\n",
            "23     I could care less... The interior is just beau...\n",
            "24                                    So they performed.\n",
            "25     That's right....the red velvet cake.....ohhh t...\n",
            "26            - They never brought a salad we asked for.\n",
            "27     This hole in the wall has great Mexican street...\n",
            "28     Took an hour to get our food only 4 tables in ...\n",
            "29                     The worst was the salmon sashimi.\n",
            "                             ...                        \n",
            "970    I immediately said I wanted to talk to the man...\n",
            "971                      The ambiance isn't much better.\n",
            "972    Unfortunately, it only set us up for disapppoi...\n",
            "973                                The food wasn't good.\n",
            "974    Your servers suck, wait, correction, our serve...\n",
            "975        What happened next was pretty....off putting.\n",
            "976    too bad cause I know it's family owned, I real...\n",
            "977                 Overpriced for what you are getting.\n",
            "978                 I vomited in the bathroom mid lunch.\n",
            "979    I kept looking at the time and it had soon bec...\n",
            "980    I have been to very few places to eat that und...\n",
            "981    We started with the tuna sashimi which was bro...\n",
            "982                              Food was below average.\n",
            "983    It sure does beat the nachos at the movies but...\n",
            "984         All in all, Ha Long Bay was a bit of a flop.\n",
            "985    The problem I have is that they charge $11.99 ...\n",
            "986    Shrimp- When I unwrapped it (I live only 1/2 a...\n",
            "987       It lacked flavor, seemed undercooked, and dry.\n",
            "988    It really is impressive that the place hasn't ...\n",
            "989    I would avoid this place if you are staying in...\n",
            "990    The refried beans that came with my meal were ...\n",
            "991           Spend your money and time some place else.\n",
            "992    A lady at the table next to us found a live gr...\n",
            "993              the presentation of the food was awful.\n",
            "994             I can't tell you how disappointed I was.\n",
            "995    I think food should have flavor and texture an...\n",
            "996                             Appetite instantly gone.\n",
            "997    Overall I was not impressed and would not go b...\n",
            "998    The whole experience was underwhelming, and I ...\n",
            "999    Then, as if I hadn't wasted enough of my life ...\n",
            "Name: Review, Length: 1000, dtype: object\n",
            "0\n",
            "None\n"
          ],
          "name": "stdout"
        }
      ]
    },
    {
      "cell_type": "code",
      "metadata": {
        "id": "SObbehkYrdex",
        "colab_type": "code",
        "outputId": "4c226add-a4b4-4932-dedd-96387a912b30",
        "colab": {
          "base_uri": "https://localhost:8080/",
          "height": 1140
        }
      },
      "source": [
        "print(y)\n",
        "data.isnull().sum()\n",
        "#if null value in both coumns"
      ],
      "execution_count": 22,
      "outputs": [
        {
          "output_type": "stream",
          "text": [
            "0      1\n",
            "1      0\n",
            "2      0\n",
            "3      1\n",
            "4      1\n",
            "5      0\n",
            "6      0\n",
            "7      0\n",
            "8      1\n",
            "9      1\n",
            "10     1\n",
            "11     0\n",
            "12     0\n",
            "13     1\n",
            "14     0\n",
            "15     0\n",
            "16     1\n",
            "17     0\n",
            "18     0\n",
            "19     0\n",
            "20     0\n",
            "21     1\n",
            "22     1\n",
            "23     1\n",
            "24     1\n",
            "25     1\n",
            "26     0\n",
            "27     1\n",
            "28     0\n",
            "29     0\n",
            "      ..\n",
            "970    0\n",
            "971    0\n",
            "972    0\n",
            "973    0\n",
            "974    0\n",
            "975    0\n",
            "976    0\n",
            "977    0\n",
            "978    0\n",
            "979    0\n",
            "980    0\n",
            "981    0\n",
            "982    0\n",
            "983    0\n",
            "984    0\n",
            "985    0\n",
            "986    0\n",
            "987    0\n",
            "988    0\n",
            "989    0\n",
            "990    0\n",
            "991    0\n",
            "992    0\n",
            "993    0\n",
            "994    0\n",
            "995    0\n",
            "996    0\n",
            "997    0\n",
            "998    0\n",
            "999    0\n",
            "Name: Liked, Length: 1000, dtype: int64\n"
          ],
          "name": "stdout"
        },
        {
          "output_type": "execute_result",
          "data": {
            "text/plain": [
              "Review    0\n",
              "Liked     0\n",
              "dtype: int64"
            ]
          },
          "metadata": {
            "tags": []
          },
          "execution_count": 22
        }
      ]
    },
    {
      "cell_type": "code",
      "metadata": {
        "id": "hnJF2Qq9ru-8",
        "colab_type": "code",
        "outputId": "268973f8-1401-404f-db6e-362a5253493a",
        "colab": {
          "base_uri": "https://localhost:8080/",
          "height": 34
        }
      },
      "source": [
        "data[\"Liked\"].unique()\n",
        "#types of Liked data"
      ],
      "execution_count": 23,
      "outputs": [
        {
          "output_type": "execute_result",
          "data": {
            "text/plain": [
              "array([1, 0])"
            ]
          },
          "metadata": {
            "tags": []
          },
          "execution_count": 23
        }
      ]
    },
    {
      "cell_type": "code",
      "metadata": {
        "id": "Ybzp3z37r8Z_",
        "colab_type": "code",
        "outputId": "a0d4a153-3c67-4c6e-e101-5838866b1b68",
        "colab": {
          "base_uri": "https://localhost:8080/",
          "height": 69
        }
      },
      "source": [
        "data[\"Liked\"].value_counts()\n",
        "#number of + or - reviews"
      ],
      "execution_count": 24,
      "outputs": [
        {
          "output_type": "execute_result",
          "data": {
            "text/plain": [
              "1    500\n",
              "0    500\n",
              "Name: Liked, dtype: int64"
            ]
          },
          "metadata": {
            "tags": []
          },
          "execution_count": 24
        }
      ]
    },
    {
      "cell_type": "markdown",
      "metadata": {
        "id": "FlL2HluamZMc",
        "colab_type": "text"
      },
      "source": [
        "\n",
        "\n",
        "*   **Split training and test set**\n",
        "*  **include pipeline**\n",
        "\n",
        "\n",
        "\n",
        "*   **Apply tfidfvectorizer:- it gives a score for each token which occurs frequently in dataset\n",
        "*   **Fit Linear SVM**\n",
        "\n",
        "\n",
        "\n"
      ]
    },
    {
      "cell_type": "code",
      "metadata": {
        "id": "tPv9cGR0sRO4",
        "colab_type": "code",
        "colab": {}
      },
      "source": [
        "\n",
        "from sklearn.model_selection import train_test_split\n",
        "X_train,X_test,y_train,y_test = train_test_split(X,y,test_size=0.33,random_state=43)"
      ],
      "execution_count": 0,
      "outputs": []
    },
    {
      "cell_type": "code",
      "metadata": {
        "id": "7DVWfdtds-fG",
        "colab_type": "code",
        "outputId": "868bc39c-47ef-4b32-e386-4bc9dc88707b",
        "colab": {
          "base_uri": "https://localhost:8080/",
          "height": 380
        }
      },
      "source": [
        "from sklearn.pipeline import Pipeline\n",
        "from sklearn.feature_extraction.text import TfidfVectorizer\n",
        "from sklearn.svm import LinearSVC\n",
        "pl = Pipeline([('tfidf',TfidfVectorizer()),('clf',LinearSVC())])\n",
        "pl.fit(X_train,y_train)"
      ],
      "execution_count": 26,
      "outputs": [
        {
          "output_type": "execute_result",
          "data": {
            "text/plain": [
              "Pipeline(memory=None,\n",
              "         steps=[('tfidf',\n",
              "                 TfidfVectorizer(analyzer='word', binary=False,\n",
              "                                 decode_error='strict',\n",
              "                                 dtype=<class 'numpy.float64'>,\n",
              "                                 encoding='utf-8', input='content',\n",
              "                                 lowercase=True, max_df=1.0, max_features=None,\n",
              "                                 min_df=1, ngram_range=(1, 1), norm='l2',\n",
              "                                 preprocessor=None, smooth_idf=True,\n",
              "                                 stop_words=None, strip_accents=None,\n",
              "                                 sublinear_tf=False,\n",
              "                                 token_pattern='(?u)\\\\b\\\\w\\\\w+\\\\b',\n",
              "                                 tokenizer=None, use_idf=True,\n",
              "                                 vocabulary=None)),\n",
              "                ('clf',\n",
              "                 LinearSVC(C=1.0, class_weight=None, dual=True,\n",
              "                           fit_intercept=True, intercept_scaling=1,\n",
              "                           loss='squared_hinge', max_iter=1000,\n",
              "                           multi_class='ovr', penalty='l2', random_state=None,\n",
              "                           tol=0.0001, verbose=0))],\n",
              "         verbose=False)"
            ]
          },
          "metadata": {
            "tags": []
          },
          "execution_count": 26
        }
      ]
    },
    {
      "cell_type": "markdown",
      "metadata": {
        "id": "x02FdJ17oX2w",
        "colab_type": "text"
      },
      "source": [
        "\n",
        "\n",
        "*   **evaluate by:-**\n",
        "\n",
        "\n",
        "1.  **confusion matrix**\n",
        "2.   **classification report**\n",
        "3.   **accuracy score**\n",
        "\n",
        "\n",
        "\n",
        "\n"
      ]
    },
    {
      "cell_type": "code",
      "metadata": {
        "id": "0dSvUE0a0Tf6",
        "colab_type": "code",
        "outputId": "bb038f15-78ac-4741-d7b0-2dc50b1104d2",
        "colab": {
          "base_uri": "https://localhost:8080/",
          "height": 224
        }
      },
      "source": [
        "predicts = pl.predict(X_test)\n",
        "from sklearn.metrics import confusion_matrix,classification_report,accuracy_score\n",
        "print(confusion_matrix(y_test,predicts))\n",
        "print(classification_report(y_test,predicts))\n",
        "print(accuracy_score(y_test,predicts))"
      ],
      "execution_count": 27,
      "outputs": [
        {
          "output_type": "stream",
          "text": [
            "[[143  33]\n",
            " [ 21 133]]\n",
            "              precision    recall  f1-score   support\n",
            "\n",
            "           0       0.87      0.81      0.84       176\n",
            "           1       0.80      0.86      0.83       154\n",
            "\n",
            "    accuracy                           0.84       330\n",
            "   macro avg       0.84      0.84      0.84       330\n",
            "weighted avg       0.84      0.84      0.84       330\n",
            "\n",
            "0.8363636363636363\n"
          ],
          "name": "stdout"
        }
      ]
    }
  ]
}