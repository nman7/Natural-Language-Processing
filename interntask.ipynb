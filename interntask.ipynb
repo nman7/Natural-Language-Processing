{
  "nbformat": 4,
  "nbformat_minor": 0,
  "metadata": {
    "colab": {
      "name": "inshallahdone.ipynb",
      "provenance": [],
      "collapsed_sections": []
    },
    "kernelspec": {
      "name": "python3",
      "display_name": "Python 3"
    }
  },
  "cells": [
    {
      "cell_type": "markdown",
      "metadata": {
        "id": "VNMI1MDCVIbc",
        "colab_type": "text"
      },
      "source": [
        "**IMPORTING DATASET OF AIRLINE TWEETS WITH 3 CATEGORIES POSITIVE,NEGATIVE,NEUTRAL**"
      ]
    },
    {
      "cell_type": "code",
      "metadata": {
        "id": "fnpKfMBcXTa-",
        "colab_type": "code",
        "outputId": "6b98c71c-125a-467f-dc82-8baa1cf1342c",
        "colab": {
          "base_uri": "https://localhost:8080/",
          "height": 138
        }
      },
      "source": [
        "import pandas as pd\n",
        "data = pd.read_csv(\"Tweets.csv\")\n",
        "data.head()\n",
        "data['airline'].value_counts()"
      ],
      "execution_count": 113,
      "outputs": [
        {
          "output_type": "execute_result",
          "data": {
            "text/plain": [
              "United            3822\n",
              "US Airways        2913\n",
              "American          2759\n",
              "Southwest         2420\n",
              "Delta             2222\n",
              "Virgin America     504\n",
              "Name: airline, dtype: int64"
            ]
          },
          "metadata": {
            "tags": []
          },
          "execution_count": 113
        }
      ]
    },
    {
      "cell_type": "markdown",
      "metadata": {
        "id": "Upr38lNxVXhH",
        "colab_type": "text"
      },
      "source": [
        "**SELECTING SPECIFIC COLUMN FROM DATASET**"
      ]
    },
    {
      "cell_type": "code",
      "metadata": {
        "id": "tZNJoXebdRu5",
        "colab_type": "code",
        "colab": {}
      },
      "source": [
        " data = data[['text','airline_sentiment']]"
      ],
      "execution_count": 0,
      "outputs": []
    },
    {
      "cell_type": "code",
      "metadata": {
        "id": "Rtoz7n5GdpLa",
        "colab_type": "code",
        "outputId": "6ef6491c-b230-49e0-9e6d-6e9c2b104320",
        "colab": {
          "base_uri": "https://localhost:8080/",
          "height": 198
        }
      },
      "source": [
        "data.head()"
      ],
      "execution_count": 115,
      "outputs": [
        {
          "output_type": "execute_result",
          "data": {
            "text/html": [
              "<div>\n",
              "<style scoped>\n",
              "    .dataframe tbody tr th:only-of-type {\n",
              "        vertical-align: middle;\n",
              "    }\n",
              "\n",
              "    .dataframe tbody tr th {\n",
              "        vertical-align: top;\n",
              "    }\n",
              "\n",
              "    .dataframe thead th {\n",
              "        text-align: right;\n",
              "    }\n",
              "</style>\n",
              "<table border=\"1\" class=\"dataframe\">\n",
              "  <thead>\n",
              "    <tr style=\"text-align: right;\">\n",
              "      <th></th>\n",
              "      <th>text</th>\n",
              "      <th>airline_sentiment</th>\n",
              "    </tr>\n",
              "  </thead>\n",
              "  <tbody>\n",
              "    <tr>\n",
              "      <th>0</th>\n",
              "      <td>@VirginAmerica What @dhepburn said.</td>\n",
              "      <td>neutral</td>\n",
              "    </tr>\n",
              "    <tr>\n",
              "      <th>1</th>\n",
              "      <td>@VirginAmerica plus you've added commercials t...</td>\n",
              "      <td>positive</td>\n",
              "    </tr>\n",
              "    <tr>\n",
              "      <th>2</th>\n",
              "      <td>@VirginAmerica I didn't today... Must mean I n...</td>\n",
              "      <td>neutral</td>\n",
              "    </tr>\n",
              "    <tr>\n",
              "      <th>3</th>\n",
              "      <td>@VirginAmerica it's really aggressive to blast...</td>\n",
              "      <td>negative</td>\n",
              "    </tr>\n",
              "    <tr>\n",
              "      <th>4</th>\n",
              "      <td>@VirginAmerica and it's a really big bad thing...</td>\n",
              "      <td>negative</td>\n",
              "    </tr>\n",
              "  </tbody>\n",
              "</table>\n",
              "</div>"
            ],
            "text/plain": [
              "                                                text airline_sentiment\n",
              "0                @VirginAmerica What @dhepburn said.           neutral\n",
              "1  @VirginAmerica plus you've added commercials t...          positive\n",
              "2  @VirginAmerica I didn't today... Must mean I n...           neutral\n",
              "3  @VirginAmerica it's really aggressive to blast...          negative\n",
              "4  @VirginAmerica and it's a really big bad thing...          negative"
            ]
          },
          "metadata": {
            "tags": []
          },
          "execution_count": 115
        }
      ]
    },
    {
      "cell_type": "code",
      "metadata": {
        "id": "QjcXhH0ydrfC",
        "colab_type": "code",
        "outputId": "bf2f7186-106b-4911-b619-3063a1900412",
        "colab": {
          "base_uri": "https://localhost:8080/",
          "height": 34
        }
      },
      "source": [
        "data['airline_sentiment'].unique()"
      ],
      "execution_count": 116,
      "outputs": [
        {
          "output_type": "execute_result",
          "data": {
            "text/plain": [
              "array(['neutral', 'positive', 'negative'], dtype=object)"
            ]
          },
          "metadata": {
            "tags": []
          },
          "execution_count": 116
        }
      ]
    },
    {
      "cell_type": "code",
      "metadata": {
        "id": "4jW8QIWfeU3I",
        "colab_type": "code",
        "outputId": "0827d7fe-bc29-414c-8c4e-2403e8029f6e",
        "colab": {
          "base_uri": "https://localhost:8080/",
          "height": 86
        }
      },
      "source": [
        "data['airline_sentiment'].value_counts()"
      ],
      "execution_count": 117,
      "outputs": [
        {
          "output_type": "execute_result",
          "data": {
            "text/plain": [
              "negative    9178\n",
              "neutral     3099\n",
              "positive    2363\n",
              "Name: airline_sentiment, dtype: int64"
            ]
          },
          "metadata": {
            "tags": []
          },
          "execution_count": 117
        }
      ]
    },
    {
      "cell_type": "markdown",
      "metadata": {
        "id": "znGw3RsIViUt",
        "colab_type": "text"
      },
      "source": [
        "**LABEL_ENCODING DEPENDENT COULMN**\n",
        "\n",
        "\\\n",
        "\n"
      ]
    },
    {
      "cell_type": "code",
      "metadata": {
        "id": "caFUKM3UevUy",
        "colab_type": "code",
        "colab": {}
      },
      "source": [
        "from sklearn.preprocessing import LabelEncoder\n",
        "le = LabelEncoder()\n",
        "data['airline_sentiment'] = le.fit_transform(data['airline_sentiment'])"
      ],
      "execution_count": 0,
      "outputs": []
    },
    {
      "cell_type": "code",
      "metadata": {
        "id": "odfIGCi0fotI",
        "colab_type": "code",
        "outputId": "c3c248cc-b624-4241-a1c1-0a5b2abfb28f",
        "colab": {
          "base_uri": "https://localhost:8080/",
          "height": 198
        }
      },
      "source": [
        "data.head()"
      ],
      "execution_count": 119,
      "outputs": [
        {
          "output_type": "execute_result",
          "data": {
            "text/html": [
              "<div>\n",
              "<style scoped>\n",
              "    .dataframe tbody tr th:only-of-type {\n",
              "        vertical-align: middle;\n",
              "    }\n",
              "\n",
              "    .dataframe tbody tr th {\n",
              "        vertical-align: top;\n",
              "    }\n",
              "\n",
              "    .dataframe thead th {\n",
              "        text-align: right;\n",
              "    }\n",
              "</style>\n",
              "<table border=\"1\" class=\"dataframe\">\n",
              "  <thead>\n",
              "    <tr style=\"text-align: right;\">\n",
              "      <th></th>\n",
              "      <th>text</th>\n",
              "      <th>airline_sentiment</th>\n",
              "    </tr>\n",
              "  </thead>\n",
              "  <tbody>\n",
              "    <tr>\n",
              "      <th>0</th>\n",
              "      <td>@VirginAmerica What @dhepburn said.</td>\n",
              "      <td>1</td>\n",
              "    </tr>\n",
              "    <tr>\n",
              "      <th>1</th>\n",
              "      <td>@VirginAmerica plus you've added commercials t...</td>\n",
              "      <td>2</td>\n",
              "    </tr>\n",
              "    <tr>\n",
              "      <th>2</th>\n",
              "      <td>@VirginAmerica I didn't today... Must mean I n...</td>\n",
              "      <td>1</td>\n",
              "    </tr>\n",
              "    <tr>\n",
              "      <th>3</th>\n",
              "      <td>@VirginAmerica it's really aggressive to blast...</td>\n",
              "      <td>0</td>\n",
              "    </tr>\n",
              "    <tr>\n",
              "      <th>4</th>\n",
              "      <td>@VirginAmerica and it's a really big bad thing...</td>\n",
              "      <td>0</td>\n",
              "    </tr>\n",
              "  </tbody>\n",
              "</table>\n",
              "</div>"
            ],
            "text/plain": [
              "                                                text  airline_sentiment\n",
              "0                @VirginAmerica What @dhepburn said.                  1\n",
              "1  @VirginAmerica plus you've added commercials t...                  2\n",
              "2  @VirginAmerica I didn't today... Must mean I n...                  1\n",
              "3  @VirginAmerica it's really aggressive to blast...                  0\n",
              "4  @VirginAmerica and it's a really big bad thing...                  0"
            ]
          },
          "metadata": {
            "tags": []
          },
          "execution_count": 119
        }
      ]
    },
    {
      "cell_type": "code",
      "metadata": {
        "id": "wRnwuGY8hQ-e",
        "colab_type": "code",
        "outputId": "74281671-7004-4761-9158-d8f3068a7b08",
        "colab": {
          "base_uri": "https://localhost:8080/",
          "height": 121
        }
      },
      "source": [
        "X = data['text']\n",
        "y = data['airline_sentiment']\n",
        "print(data.head())\n"
      ],
      "execution_count": 120,
      "outputs": [
        {
          "output_type": "stream",
          "text": [
            "                                                text  airline_sentiment\n",
            "0                @VirginAmerica What @dhepburn said.                  1\n",
            "1  @VirginAmerica plus you've added commercials t...                  2\n",
            "2  @VirginAmerica I didn't today... Must mean I n...                  1\n",
            "3  @VirginAmerica it's really aggressive to blast...                  0\n",
            "4  @VirginAmerica and it's a really big bad thing...                  0\n"
          ],
          "name": "stdout"
        }
      ]
    },
    {
      "cell_type": "code",
      "metadata": {
        "id": "0UPI4Zpdh0HD",
        "colab_type": "code",
        "outputId": "01bf4fc1-9913-48b9-9f67-055f0123ab0b",
        "colab": {
          "base_uri": "https://localhost:8080/",
          "height": 34
        }
      },
      "source": [
        "data.shape"
      ],
      "execution_count": 121,
      "outputs": [
        {
          "output_type": "execute_result",
          "data": {
            "text/plain": [
              "(14640, 2)"
            ]
          },
          "metadata": {
            "tags": []
          },
          "execution_count": 121
        }
      ]
    },
    {
      "cell_type": "markdown",
      "metadata": {
        "id": "6cZPNv2QW7wf",
        "colab_type": "text"
      },
      "source": [
        "**REMOVING COMMON  WORDS I.E STOP WORDS**\n",
        "\n",
        "**REMOVING PUNCTUATION MARKS**\n",
        "\n",
        "**CONVERTING STRING TO LOWER CASE **"
      ]
    },
    {
      "cell_type": "code",
      "metadata": {
        "id": "5GA49ttKiklA",
        "colab_type": "code",
        "colab": {}
      },
      "source": [
        "import spacy\n",
        "nlp = spacy.load('en')\n",
        "nlp.Defaults.stop_words.add(\"virginamerica\")\n",
        "nlp.Defaults.stop_words.add(\"united\")\n",
        "nlp.Defaults.stop_words.add(\"unite\")\n",
        "nlp.Defaults.stop_words.add(\"delta\")\n",
        "nlp.Defaults.stop_words.add(\"southwest\")\n",
        "nlp.Defaults.stop_words.add(\"american\")\n",
        "nlp.Defaults.stop_words.add(\"us airways\")\n",
        "\n",
        "\n",
        "\n",
        "\n",
        "punctuations = '!\"#$%&\\'()*+,-/:;<=>?@[\\\\]^_`{|}~'\n",
        "texts = []\n",
        "for i in range(14640):\n",
        "    rev=re.sub('[^a-zA-Z]',' ',X[i])\n",
        "    rev=rev.lower();\n",
        "    doc = nlp(rev, disable=['parser', 'ner'])\n",
        "    tokens = [tok.lemma_.lower().strip() for tok in doc if tok.lemma_ != '-PRON-']\n",
        "    tokens = [tok for tok in tokens if tok not in nlp.Defaults.stop_words and tok not in punctuations]\n",
        "    tokens = ' '.join(tokens)\n",
        "    texts.append(tokens)\n",
        "f = pd.DataFrame(texts)\n"
      ],
      "execution_count": 0,
      "outputs": []
    },
    {
      "cell_type": "code",
      "metadata": {
        "id": "Ndbah0ANkink",
        "colab_type": "code",
        "outputId": "1630bdb6-b1dd-48a5-88fd-67173cfc0658",
        "colab": {
          "base_uri": "https://localhost:8080/",
          "height": 138
        }
      },
      "source": [
        "print(f.head())\n",
        "\n",
        "\n",
        "\n",
        "#CHECKING FOR NULL VALUES\n",
        "X.isnull().sum()"
      ],
      "execution_count": 123,
      "outputs": [
        {
          "output_type": "stream",
          "text": [
            "                                                   0\n",
            "0                                           dhepburn\n",
            "1            plus ve add commercial experience tacky\n",
            "2                        didn t today mean need trip\n",
            "3  s aggressive blast obnoxious entertainment gue...\n",
            "4                                    s big bad thing\n"
          ],
          "name": "stdout"
        },
        {
          "output_type": "execute_result",
          "data": {
            "text/plain": [
              "0"
            ]
          },
          "metadata": {
            "tags": []
          },
          "execution_count": 123
        }
      ]
    },
    {
      "cell_type": "code",
      "metadata": {
        "colab_type": "code",
        "id": "DoYDJ-hmJiUh",
        "colab": {
          "base_uri": "https://localhost:8080/",
          "height": 207
        },
        "outputId": "8ccc7778-4e67-4ea8-e8a1-c672611386ef"
      },
      "source": [
        "print(X.head(),y.head())"
      ],
      "execution_count": 124,
      "outputs": [
        {
          "output_type": "stream",
          "text": [
            "0                  @VirginAmerica What @dhepburn said.\n",
            "1    @VirginAmerica plus you've added commercials t...\n",
            "2    @VirginAmerica I didn't today... Must mean I n...\n",
            "3    @VirginAmerica it's really aggressive to blast...\n",
            "4    @VirginAmerica and it's a really big bad thing...\n",
            "Name: text, dtype: object 0    1\n",
            "1    2\n",
            "2    1\n",
            "3    0\n",
            "4    0\n",
            "Name: airline_sentiment, dtype: int64\n"
          ],
          "name": "stdout"
        }
      ]
    },
    {
      "cell_type": "code",
      "metadata": {
        "id": "lR84THGVoHri",
        "colab_type": "code",
        "colab": {}
      },
      "source": [
        "X = f[0]"
      ],
      "execution_count": 0,
      "outputs": []
    },
    {
      "cell_type": "code",
      "metadata": {
        "id": "z1I5FnhRoygy",
        "colab_type": "code",
        "colab": {}
      },
      "source": [
        ""
      ],
      "execution_count": 0,
      "outputs": []
    },
    {
      "cell_type": "code",
      "metadata": {
        "id": "NpBcTNrZo3o6",
        "colab_type": "code",
        "outputId": "dd3a9bd7-8422-478b-97b3-f7c09c624051",
        "colab": {
          "base_uri": "https://localhost:8080/",
          "height": 69
        }
      },
      "source": [
        "\n",
        "print(X.shape)\n",
        "print(y.shape)\n",
        "\n",
        "\n",
        "#CHECKING FOR NULL VALUES\n",
        "print(X.isnull().sum())"
      ],
      "execution_count": 126,
      "outputs": [
        {
          "output_type": "stream",
          "text": [
            "(14640,)\n",
            "(14640,)\n",
            "0\n"
          ],
          "name": "stdout"
        }
      ]
    },
    {
      "cell_type": "markdown",
      "metadata": {
        "id": "GVHrkhzvX4Gh",
        "colab_type": "text"
      },
      "source": [
        "\n",
        "\n",
        "1.   creating a pipeline to performs multiple functions ina single step \n",
        "\n",
        "2.   splitting training set and test set which will be used both for training and evaluation\n",
        "\n",
        "\n",
        "3.   fitting linear SVC model to training set \n",
        "\n",
        "\n",
        "\n",
        "\n"
      ]
    },
    {
      "cell_type": "code",
      "metadata": {
        "id": "n9tme9KI50Xk",
        "colab_type": "code",
        "outputId": "f8619790-f003-41a3-ca6e-5e77ed9edbef",
        "colab": {
          "base_uri": "https://localhost:8080/",
          "height": 380
        }
      },
      "source": [
        "from sklearn.model_selection import train_test_split\n",
        "x_train,x_test,y_train,y_test = train_test_split(X,y,test_size=0.2,random_state=0)\n",
        "\n",
        "from sklearn.naive_bayes import MultinomialNB\n",
        "from sklearn.svm import SVC\n",
        "from sklearn.pipeline import Pipeline\n",
        "from sklearn.feature_extraction.text import TfidfVectorizer\n",
        "from sklearn.svm import LinearSVC\n",
        "pl = Pipeline([('tfidf',TfidfVectorizer()),('clf',LinearSVC())])\n",
        "pl.fit(x_train,y_train)\n",
        "\n"
      ],
      "execution_count": 127,
      "outputs": [
        {
          "output_type": "execute_result",
          "data": {
            "text/plain": [
              "Pipeline(memory=None,\n",
              "         steps=[('tfidf',\n",
              "                 TfidfVectorizer(analyzer='word', binary=False,\n",
              "                                 decode_error='strict',\n",
              "                                 dtype=<class 'numpy.float64'>,\n",
              "                                 encoding='utf-8', input='content',\n",
              "                                 lowercase=True, max_df=1.0, max_features=None,\n",
              "                                 min_df=1, ngram_range=(1, 1), norm='l2',\n",
              "                                 preprocessor=None, smooth_idf=True,\n",
              "                                 stop_words=None, strip_accents=None,\n",
              "                                 sublinear_tf=False,\n",
              "                                 token_pattern='(?u)\\\\b\\\\w\\\\w+\\\\b',\n",
              "                                 tokenizer=None, use_idf=True,\n",
              "                                 vocabulary=None)),\n",
              "                ('clf',\n",
              "                 LinearSVC(C=1.0, class_weight=None, dual=True,\n",
              "                           fit_intercept=True, intercept_scaling=1,\n",
              "                           loss='squared_hinge', max_iter=1000,\n",
              "                           multi_class='ovr', penalty='l2', random_state=None,\n",
              "                           tol=0.0001, verbose=0))],\n",
              "         verbose=False)"
            ]
          },
          "metadata": {
            "tags": []
          },
          "execution_count": 127
        }
      ]
    },
    {
      "cell_type": "markdown",
      "metadata": {
        "id": "5BZUsfrOYccD",
        "colab_type": "text"
      },
      "source": [
        "**evaluating model using confusion matrix**\n",
        "\n",
        "**classifiaction report**\n",
        "\n",
        "**accuracy score**"
      ]
    },
    {
      "cell_type": "code",
      "metadata": {
        "id": "SVJbPrDHP80N",
        "colab_type": "code",
        "colab": {
          "base_uri": "https://localhost:8080/",
          "height": 259
        },
        "outputId": "ba00b8fd-2e20-4c99-d9f5-742037c813f5"
      },
      "source": [
        "\n",
        "\n",
        "predicts = pl.predict(x_test)\n",
        "from sklearn.metrics import confusion_matrix,classification_report,accuracy_score\n",
        "print(confusion_matrix(y_test,predicts))\n",
        "print(classification_report(y_test,predicts))\n",
        "print(accuracy_score(y_test,predicts))"
      ],
      "execution_count": 132,
      "outputs": [
        {
          "output_type": "stream",
          "text": [
            "[[1668  149   53]\n",
            " [ 250  309   55]\n",
            " [  99   68  277]]\n",
            "              precision    recall  f1-score   support\n",
            "\n",
            "           0       0.83      0.89      0.86      1870\n",
            "           1       0.59      0.50      0.54       614\n",
            "           2       0.72      0.62      0.67       444\n",
            "\n",
            "    accuracy                           0.77      2928\n",
            "   macro avg       0.71      0.67      0.69      2928\n",
            "weighted avg       0.76      0.77      0.76      2928\n",
            "\n",
            "0.769808743169399\n"
          ],
          "name": "stdout"
        }
      ]
    },
    {
      "cell_type": "markdown",
      "metadata": {
        "id": "ktv09MdEYzxr",
        "colab_type": "text"
      },
      "source": [
        "**MODEL TRAINED IS 76% ACCURATE**"
      ]
    },
    {
      "cell_type": "code",
      "metadata": {
        "id": "VrqkYMoi6Uf6",
        "colab_type": "code",
        "colab": {}
      },
      "source": [
        ""
      ],
      "execution_count": 0,
      "outputs": []
    },
    {
      "cell_type": "code",
      "metadata": {
        "id": "zZ0j4PxH6bG3",
        "colab_type": "code",
        "colab": {}
      },
      "source": [
        ""
      ],
      "execution_count": 0,
      "outputs": []
    }
  ]
}